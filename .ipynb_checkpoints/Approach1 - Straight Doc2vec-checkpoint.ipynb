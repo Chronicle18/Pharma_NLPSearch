{
 "cells": [
  {
   "cell_type": "code",
   "execution_count": 53,
   "metadata": {},
   "outputs": [],
   "source": [
    "import glob\n",
    "import os\n",
    "import re"
   ]
  },
  {
   "cell_type": "code",
   "execution_count": 54,
   "metadata": {},
   "outputs": [],
   "source": [
    "def filebrowser():\n",
    "    \"Returns files with an extension\"\n",
    "    return [f for f in glob.glob(\"search_list/Abstracts/*.txt\")]"
   ]
  },
  {
   "cell_type": "code",
   "execution_count": 55,
   "metadata": {},
   "outputs": [
    {
     "name": "stdout",
     "output_type": "stream",
     "text": [
      "['search_list/Abstracts/Anti-Toxoplasma gondii activity of 5-oxo-hexahydroquinoline derivatives: synthesis, in vitro and in vivo evaluations, and molecular docking analysis.txt', 'search_list/Abstracts/pharmaceutical-care-in-a-patient-with-recurrent-infection-after-liver-transplant.txt', 'search_list/Abstracts/The effect of pramlintide, an antidiabetic amylin analogue on angiogenesis-related markers in vitro.txt', 'search_list/Abstracts/pharmacological-options-beyond-proton-pump-inhibitors-in-childrenwith-gastroesophageal-reflux-diseas.txt']\n"
     ]
    }
   ],
   "source": [
    "file_list = filebrowser()\n",
    "print(file_list)"
   ]
  },
  {
   "cell_type": "code",
   "execution_count": 60,
   "metadata": {},
   "outputs": [],
   "source": [
    "abstracts = []\n",
    "contents = ''\n",
    "\n",
    "for filepath in file_list:\n",
    "    with open(filepath, 'r') as f:\n",
    "        for line in f.readlines():\n",
    "            line = line.replace('\\n', ' ')\n",
    "            contents += ''.join(e for e in line if (e.isalnum() or e==' '))\n",
    "        abstracts.append(contents)\n",
    "        f.close()"
   ]
  },
  {
   "cell_type": "code",
   "execution_count": 61,
   "metadata": {
    "scrolled": true
   },
   "outputs": [
    {
     "data": {
      "text/plain": [
       "['Abstract Background and purpose The aim of this study was to evaluate the in vitro and in vivo antiToxoplasma gondii T gondii effect of 5oxohexahydroquinoline compounds Moreover molecular docking study of the compounds into the active site of enoylacyl carrier protein reductase ENR as a necessary enzyme for the vitality of apicoplast was carried out Experimental approach A number of 5oxohexahydoquinoline derivatives Z1Z4 were synthesized The T gondii tachyzoites of RH strain were treated by different concentrations 164 μgmL of the compounds The viability of the encountered parasites with compounds was assessed using flow cytometry and propidium iodide PI staining Due to the high mortality effect of Z3 and Z4 in vitro their chemotherapy effect was assessed by inoculation of tachyzoites to four BALBc mice groups n  5 followed by the gavage of various concentrations of the compounds to the mice Molecular docking was done to study the binding affinity of the synthesized 5oxohexahydroquinolines into ENR enzyme active site byusing AutoDock Vina software Docking was performed by a Lamarckian Genetic Algorithm with 100 runs Findings  Results Flow cytometry assay results indicated compounds Z3 and Z4 had relevant mortality effect on parasite tachyzoites Besides in vivo experiments were also performed and a partial increase of mice longevity between control and experiment groups was recorded Molecular docking of Z3 and Z4 in the binding site of ENR enzyme indicated that the compounds were well accommodated within the binding site Therefore it could be suggested that these compounds may exert their antiT gondii activity through the inhibition of the ENR enzyme Conclusion and implications Compounds Z3 and Z4 are good leads in order to develop better antiT gondii agents as they demonstrated both in vitro and in vivo inhibitory effects on tachyzoites viability and infection Further studies on altering the route of administration along with additional pharmacokinetics evaluations are needed to improve the antiT gondii impacts of 5oxohexahydroquinoline compounds  Keywords Flow cytometry Molecular docking 5Oxohexahydroquinoline Propidium iodide Toxoplasma  ',\n",
       " 'Abstract Background and purpose The aim of this study was to evaluate the in vitro and in vivo antiToxoplasma gondii T gondii effect of 5oxohexahydroquinoline compounds Moreover molecular docking study of the compounds into the active site of enoylacyl carrier protein reductase ENR as a necessary enzyme for the vitality of apicoplast was carried out Experimental approach A number of 5oxohexahydoquinoline derivatives Z1Z4 were synthesized The T gondii tachyzoites of RH strain were treated by different concentrations 164 μgmL of the compounds The viability of the encountered parasites with compounds was assessed using flow cytometry and propidium iodide PI staining Due to the high mortality effect of Z3 and Z4 in vitro their chemotherapy effect was assessed by inoculation of tachyzoites to four BALBc mice groups n  5 followed by the gavage of various concentrations of the compounds to the mice Molecular docking was done to study the binding affinity of the synthesized 5oxohexahydroquinolines into ENR enzyme active site byusing AutoDock Vina software Docking was performed by a Lamarckian Genetic Algorithm with 100 runs Findings  Results Flow cytometry assay results indicated compounds Z3 and Z4 had relevant mortality effect on parasite tachyzoites Besides in vivo experiments were also performed and a partial increase of mice longevity between control and experiment groups was recorded Molecular docking of Z3 and Z4 in the binding site of ENR enzyme indicated that the compounds were well accommodated within the binding site Therefore it could be suggested that these compounds may exert their antiT gondii activity through the inhibition of the ENR enzyme Conclusion and implications Compounds Z3 and Z4 are good leads in order to develop better antiT gondii agents as they demonstrated both in vitro and in vivo inhibitory effects on tachyzoites viability and infection Further studies on altering the route of administration along with additional pharmacokinetics evaluations are needed to improve the antiT gondii impacts of 5oxohexahydroquinoline compounds  Keywords Flow cytometry Molecular docking 5Oxohexahydroquinoline Propidium iodide Toxoplasma  alCase description A case of a 57yearold liver transplant patient with biliary drainage catheter whose recurrent infection was managed by clinical pharmacists The suggestions about the choice of antibiotic regimen and the monitoring to other related infection factors such as biliary drainage catheter and concentration of tracrolimus were accepted and used to the patient The state of the infected patient was improved Conclusion The antibiotics distribution antibacterial effect and drug resistance could be taken into consideration for the patients with recurrent infection after liver transplant The resistance of antibiotics could be deferred by altering suitable antibiotics Close care to catheter and immunosuppressants could be necessary to prevent infection for the patients after transplant  Keywords Pharmaceutical care Recurrent infection Liver ',\n",
       " 'Abstract Background and purpose The aim of this study was to evaluate the in vitro and in vivo antiToxoplasma gondii T gondii effect of 5oxohexahydroquinoline compounds Moreover molecular docking study of the compounds into the active site of enoylacyl carrier protein reductase ENR as a necessary enzyme for the vitality of apicoplast was carried out Experimental approach A number of 5oxohexahydoquinoline derivatives Z1Z4 were synthesized The T gondii tachyzoites of RH strain were treated by different concentrations 164 μgmL of the compounds The viability of the encountered parasites with compounds was assessed using flow cytometry and propidium iodide PI staining Due to the high mortality effect of Z3 and Z4 in vitro their chemotherapy effect was assessed by inoculation of tachyzoites to four BALBc mice groups n  5 followed by the gavage of various concentrations of the compounds to the mice Molecular docking was done to study the binding affinity of the synthesized 5oxohexahydroquinolines into ENR enzyme active site byusing AutoDock Vina software Docking was performed by a Lamarckian Genetic Algorithm with 100 runs Findings  Results Flow cytometry assay results indicated compounds Z3 and Z4 had relevant mortality effect on parasite tachyzoites Besides in vivo experiments were also performed and a partial increase of mice longevity between control and experiment groups was recorded Molecular docking of Z3 and Z4 in the binding site of ENR enzyme indicated that the compounds were well accommodated within the binding site Therefore it could be suggested that these compounds may exert their antiT gondii activity through the inhibition of the ENR enzyme Conclusion and implications Compounds Z3 and Z4 are good leads in order to develop better antiT gondii agents as they demonstrated both in vitro and in vivo inhibitory effects on tachyzoites viability and infection Further studies on altering the route of administration along with additional pharmacokinetics evaluations are needed to improve the antiT gondii impacts of 5oxohexahydroquinoline compounds  Keywords Flow cytometry Molecular docking 5Oxohexahydroquinoline Propidium iodide Toxoplasma  alCase description A case of a 57yearold liver transplant patient with biliary drainage catheter whose recurrent infection was managed by clinical pharmacists The suggestions about the choice of antibiotic regimen and the monitoring to other related infection factors such as biliary drainage catheter and concentration of tracrolimus were accepted and used to the patient The state of the infected patient was improved Conclusion The antibiotics distribution antibacterial effect and drug resistance could be taken into consideration for the patients with recurrent infection after liver transplant The resistance of antibiotics could be deferred by altering suitable antibiotics Close care to catheter and immunosuppressants could be necessary to prevent infection for the patients after transplant  Keywords Pharmaceutical care Recurrent infection Liver Abstract Background and purpose Irregularities of angiogenesis may participate in the pathogenesis of diabetes complications Pramlintide is an amylin analogue administered for the treatment of type 1 and type 2 diabetes The present investigation aimed at surveying the effect of pramlintide on angiogenesisrelated markers in human umbilical vein endothelial cells HUVECs Experimental approach The proliferation of cells was assessed using 345dimethylthiazol2yl25diphenyltetrazolium bromide MTT method The effect of pramlintide on migration was estimated by Transwell assay in vitro evaluation of angiogenesis was performed by tube formation assay The secretion of vascular endothelial growth factor VEGF to the supernatant of HUVECs was measured by an enzymelinked immunosorbent assay ELISA kit All experiments were performed in triplicate Findings  Results Pramlintide exhibited no inhibitory effect on HUVECs proliferation It significantly increased cell migration at the concentration of 1 µgmL Pramlintide 1 µgmL also enhanced average tubules length size and the mean number of junctions However there was not any significant change in VEGF release from HUVECs Conclusion and implications Findings of this research revealed the effect of pramlintide on angiogenesisrelated markers via enhancing migration and tubulogenesis in vitro suggesting a worthwhile proposition for further clinical researches on improving vascular complications and healing of diabetic wounds  Keywords Angiogenesis Cell migration Diabetes mellitus HUVEC Pramlintide VEGF ',\n",
       " 'Abstract Background and purpose The aim of this study was to evaluate the in vitro and in vivo antiToxoplasma gondii T gondii effect of 5oxohexahydroquinoline compounds Moreover molecular docking study of the compounds into the active site of enoylacyl carrier protein reductase ENR as a necessary enzyme for the vitality of apicoplast was carried out Experimental approach A number of 5oxohexahydoquinoline derivatives Z1Z4 were synthesized The T gondii tachyzoites of RH strain were treated by different concentrations 164 μgmL of the compounds The viability of the encountered parasites with compounds was assessed using flow cytometry and propidium iodide PI staining Due to the high mortality effect of Z3 and Z4 in vitro their chemotherapy effect was assessed by inoculation of tachyzoites to four BALBc mice groups n  5 followed by the gavage of various concentrations of the compounds to the mice Molecular docking was done to study the binding affinity of the synthesized 5oxohexahydroquinolines into ENR enzyme active site byusing AutoDock Vina software Docking was performed by a Lamarckian Genetic Algorithm with 100 runs Findings  Results Flow cytometry assay results indicated compounds Z3 and Z4 had relevant mortality effect on parasite tachyzoites Besides in vivo experiments were also performed and a partial increase of mice longevity between control and experiment groups was recorded Molecular docking of Z3 and Z4 in the binding site of ENR enzyme indicated that the compounds were well accommodated within the binding site Therefore it could be suggested that these compounds may exert their antiT gondii activity through the inhibition of the ENR enzyme Conclusion and implications Compounds Z3 and Z4 are good leads in order to develop better antiT gondii agents as they demonstrated both in vitro and in vivo inhibitory effects on tachyzoites viability and infection Further studies on altering the route of administration along with additional pharmacokinetics evaluations are needed to improve the antiT gondii impacts of 5oxohexahydroquinoline compounds  Keywords Flow cytometry Molecular docking 5Oxohexahydroquinoline Propidium iodide Toxoplasma  alCase description A case of a 57yearold liver transplant patient with biliary drainage catheter whose recurrent infection was managed by clinical pharmacists The suggestions about the choice of antibiotic regimen and the monitoring to other related infection factors such as biliary drainage catheter and concentration of tracrolimus were accepted and used to the patient The state of the infected patient was improved Conclusion The antibiotics distribution antibacterial effect and drug resistance could be taken into consideration for the patients with recurrent infection after liver transplant The resistance of antibiotics could be deferred by altering suitable antibiotics Close care to catheter and immunosuppressants could be necessary to prevent infection for the patients after transplant  Keywords Pharmaceutical care Recurrent infection Liver Abstract Background and purpose Irregularities of angiogenesis may participate in the pathogenesis of diabetes complications Pramlintide is an amylin analogue administered for the treatment of type 1 and type 2 diabetes The present investigation aimed at surveying the effect of pramlintide on angiogenesisrelated markers in human umbilical vein endothelial cells HUVECs Experimental approach The proliferation of cells was assessed using 345dimethylthiazol2yl25diphenyltetrazolium bromide MTT method The effect of pramlintide on migration was estimated by Transwell assay in vitro evaluation of angiogenesis was performed by tube formation assay The secretion of vascular endothelial growth factor VEGF to the supernatant of HUVECs was measured by an enzymelinked immunosorbent assay ELISA kit All experiments were performed in triplicate Findings  Results Pramlintide exhibited no inhibitory effect on HUVECs proliferation It significantly increased cell migration at the concentration of 1 µgmL Pramlintide 1 µgmL also enhanced average tubules length size and the mean number of junctions However there was not any significant change in VEGF release from HUVECs Conclusion and implications Findings of this research revealed the effect of pramlintide on angiogenesisrelated markers via enhancing migration and tubulogenesis in vitro suggesting a worthwhile proposition for further clinical researches on improving vascular complications and healing of diabetic wounds  Keywords Angiogenesis Cell migration Diabetes mellitus HUVEC Pramlintide VEGF Pharmacological treatment of gastroesophageal reflux GER disease is mostly based on acid control However different molecules have been proposed both for patients with persisting symptoms and to limit adverse effects of proton pump inhibitors PPI This paper focuses on other acid inhibitors alginate prokinetics drug acting on lower esophageal sphincter and esophageal hypersensitivity Mechanism of action indications efficacy limits and recent advances are reported Pediatric data and possible adverse effects are also considered  Keywords Reflux Ranitidine Alginate Prokinetics Baclofen ']"
      ]
     },
     "execution_count": 61,
     "metadata": {},
     "output_type": "execute_result"
    }
   ],
   "source": [
    "abstracts"
   ]
  },
  {
   "cell_type": "code",
   "execution_count": 62,
   "metadata": {},
   "outputs": [],
   "source": [
    "from gensim.models import Word2Vec"
   ]
  },
  {
   "cell_type": "code",
   "execution_count": 67,
   "metadata": {},
   "outputs": [],
   "source": []
  },
  {
   "cell_type": "code",
   "execution_count": null,
   "metadata": {},
   "outputs": [],
   "source": [
    "model.save(\"approach1.model\")"
   ]
  }
 ],
 "metadata": {
  "kernelspec": {
   "display_name": "Python 3",
   "language": "python",
   "name": "python3"
  },
  "language_info": {
   "codemirror_mode": {
    "name": "ipython",
    "version": 3
   },
   "file_extension": ".py",
   "mimetype": "text/x-python",
   "name": "python",
   "nbconvert_exporter": "python",
   "pygments_lexer": "ipython3",
   "version": "3.7.4"
  }
 },
 "nbformat": 4,
 "nbformat_minor": 4
}
