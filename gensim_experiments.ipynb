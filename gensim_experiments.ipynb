{
 "cells": [
  {
   "cell_type": "code",
   "execution_count": 2,
   "metadata": {},
   "outputs": [],
   "source": [
    "import gensim.downloader as api\n",
    "\n",
    "model = api.load('glove-twitter-25')"
   ]
  },
  {
   "cell_type": "code",
   "execution_count": 3,
   "metadata": {},
   "outputs": [
    {
     "data": {
      "text/plain": [
       "array([-0.96419 , -0.60978 ,  0.67449 ,  0.35113 ,  0.41317 , -0.21241 ,\n",
       "        1.3796  ,  0.12854 ,  0.31567 ,  0.66325 ,  0.3391  , -0.18934 ,\n",
       "       -3.325   , -1.1491  , -0.4129  ,  0.2195  ,  0.8706  , -0.50616 ,\n",
       "       -0.12781 , -0.066965,  0.065761,  0.43927 ,  0.1758  , -0.56058 ,\n",
       "        0.13529 ], dtype=float32)"
      ]
     },
     "execution_count": 3,
     "metadata": {},
     "output_type": "execute_result"
    }
   ],
   "source": [
    "model['cat']"
   ]
  },
  {
   "cell_type": "code",
   "execution_count": 6,
   "metadata": {},
   "outputs": [
    {
     "data": {
      "text/plain": [
       "array([[-7.7069e-01,  1.2827e-01,  3.3137e-01,  5.0893e-03, -4.7605e-01,\n",
       "        -5.0116e-01,  1.8580e+00,  1.0624e+00, -5.6511e-01,  1.3328e-01,\n",
       "        -4.1918e-01, -1.4195e-01, -2.8555e+00, -5.7131e-01, -1.3418e-01,\n",
       "        -4.4922e-01,  4.8591e-01, -6.4790e-01, -8.4238e-01,  6.1669e-01,\n",
       "        -1.9824e-01, -5.7967e-01, -6.5885e-01,  4.3928e-01, -5.0473e-01],\n",
       "       [ 6.1531e-01,  4.0895e-01, -3.4224e-01,  2.1094e-01, -4.6403e-02,\n",
       "         2.9744e-01,  1.9485e+00, -9.1247e-01, -8.5772e-01,  5.7293e-01,\n",
       "        -9.9537e-01, -1.5858e-01, -5.4328e+00,  1.1578e-01, -2.7031e-01,\n",
       "         3.5207e-01,  1.6624e-01, -9.1364e-01,  6.9330e-01, -6.5035e-01,\n",
       "         7.7353e-01, -8.7782e-02, -4.3228e-01, -9.9982e-01, -6.8077e-01]],\n",
       "      dtype=float32)"
      ]
     },
     "execution_count": 6,
     "metadata": {},
     "output_type": "execute_result"
    }
   ],
   "source": []
  },
  {
   "cell_type": "code",
   "execution_count": null,
   "metadata": {},
   "outputs": [],
   "source": []
  }
 ],
 "metadata": {
  "kernelspec": {
   "display_name": "Python 3",
   "language": "python",
   "name": "python3"
  },
  "language_info": {
   "codemirror_mode": {
    "name": "ipython",
    "version": 3
   },
   "file_extension": ".py",
   "mimetype": "text/x-python",
   "name": "python",
   "nbconvert_exporter": "python",
   "pygments_lexer": "ipython3",
   "version": "3.7.4"
  }
 },
 "nbformat": 4,
 "nbformat_minor": 4
}
