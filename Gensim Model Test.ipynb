{
  "nbformat": 4,
  "nbformat_minor": 0,
  "metadata": {
    "colab": {
      "name": "Semantic Search Model.ipynb",
      "provenance": []
    },
    "kernelspec": {
      "name": "python3",
      "display_name": "Python 3"
    }
  },
  "cells": [
    {
      "cell_type": "code",
      "metadata": {
        "id": "mDOqUp0itn9a",
        "colab_type": "code",
        "colab": {}
      },
      "source": [
        "from gensim.models import Word2Vec\n",
        "from gensim.test.utils import common_texts, get_tmpfile\n",
        "import gensim.downloader as api"
      ],
      "execution_count": 15,
      "outputs": []
    },
    {
      "cell_type": "code",
      "metadata": {
        "id": "TvLJv8McuoIH",
        "colab_type": "code",
        "colab": {
          "base_uri": "https://localhost:8080/",
          "height": 89
        },
        "outputId": "a6a6e102-6993-4764-9619-c3bf8ce59e5b"
      },
      "source": [
        "model = api.load(\"glove-twitter-50\")"
      ],
      "execution_count": 3,
      "outputs": [
        {
          "output_type": "stream",
          "text": [
            "[==================================================] 100.0% 199.5/199.5MB downloaded\n"
          ],
          "name": "stdout"
        },
        {
          "output_type": "stream",
          "text": [
            "/usr/local/lib/python3.6/dist-packages/smart_open/smart_open_lib.py:254: UserWarning: This function is deprecated, use smart_open.open instead. See the migration notes for details: https://github.com/RaRe-Technologies/smart_open/blob/master/README.rst#migrating-to-the-new-open-function\n",
            "  'See the migration notes for details: %s' % _MIGRATION_NOTES_URL\n"
          ],
          "name": "stderr"
        }
      ]
    },
    {
      "cell_type": "code",
      "metadata": {
        "id": "M-lTHV3vFu8m",
        "colab_type": "code",
        "colab": {}
      },
      "source": [
        "import numpy as np"
      ],
      "execution_count": 54,
      "outputs": []
    },
    {
      "cell_type": "code",
      "metadata": {
        "id": "rc-NnbnD4yQu",
        "colab_type": "code",
        "colab": {}
      },
      "source": [
        "from numpy import dot\n",
        "from numpy.linalg import norm"
      ],
      "execution_count": 12,
      "outputs": []
    },
    {
      "cell_type": "code",
      "metadata": {
        "id": "bJAwEJUE5DtW",
        "colab_type": "code",
        "colab": {}
      },
      "source": [
        "cos_sim = dot(vec, model[\"queen\"])/(norm(vec)*norm(model[\"queen\"]))"
      ],
      "execution_count": 13,
      "outputs": []
    },
    {
      "cell_type": "code",
      "metadata": {
        "id": "b3rPvFha5cZl",
        "colab_type": "code",
        "colab": {}
      },
      "source": [
        "abstracts={\n",
        "    \"evaluation of vitro and in vivo anti-Toxoplasma gondii (T. gondii) effect of 5-oxo-hexahydroquinoline compounds\":\"Background and purpose: The aim of this study was to evaluate the in vitro and in vivo anti-Toxoplasma gondii (T. gondii) effect of 5-oxo-hexahydroquinoline compounds. Moreover, molecular docking study of the compounds into the active site of enoyl-acyl carrier protein reductase (ENR) as a necessary enzyme for the vitality of apicoplast was carried out. Experimental approach: A number of 5-oxo-hexahydoquinoline derivatives (Z1-Z4) were synthesized. The T. gondii tachyzoites of RH strain were treated by different concentrations (1-64 μg/mL) of the compounds. The viability of the encountered parasites with compounds was assessed using flow cytometry and propidium iodide (PI) staining. Due to the high mortality effect of Z3 and Z4 in vitro, their chemotherapy effect was assessed by inoculation of tachyzoites to four BALB/c mice groups (n = 5), followed by the gavage of various concentrations of the compounds to the mice. Molecular docking was done to study the binding affinity of the synthesized 5-oxo-hexahydroquinolines into ENR enzyme active site byusing AutoDock Vina® software. Docking was performed by a Lamarckian Genetic Algorithm with 100 runs. Findings / Results: Flow cytometry assay results indicated compounds Z3 and Z4 had relevant mortality effect on parasite tachyzoites. Besides, in vivo experiments were also performed and a partial increase of mice longevity between control and experiment groups was recorded. Molecular docking of Z3 and Z4 in the binding site of ENR enzyme indicated that the compounds were well accommodated within the binding site. Therefore, it could be suggested that these compounds may exert their anti-T. gondii activity through the inhibition of the ENR enzyme. Conclusion and implications: Compounds Z3 and Z4 are good leads in order to develop better anti-T. gondii agents as they demonstrated both in vitro and in vivo inhibitory effects on tachyzoites viability and infection. Further studies on altering the route of administration along with additional pharmacokinetics evaluations are needed to improve the anti-T. gondii impacts of 5-oxo-hexahydroquinoline compounds.\",\n",
        "    \"The effect of pramlintide, an antidiabetic amylin analogue, on angiogenesis-related markers in vitro Leila Safaeian1,*, Golnaz Vaseghi2, Mina Mirian3, and Mehdi Dehghani Firoozabadi1\":\"Background and purpose: Irregularities of angiogenesis may participate in the pathogenesis of diabetes complications. Pramlintide is an amylin analogue administered for the treatment of type 1 and type 2 diabetes. The present investigation aimed at surveying the effect of pramlintide on angiogenesis-related markers in human umbilical vein endothelial cells (HUVECs). Experimental approach: The proliferation of cells was assessed using 3-(4,5-dimethylthiazol-2-yl)-2,5-diphenyltetrazolium bromide (MTT) method. The effect of pramlintide on migration was estimated by Transwell® assay. in vitro evaluation of angiogenesis was performed by tube formation assay. The secretion of vascular endothelial growth factor (VEGF) to the supernatant of HUVECs was measured by an enzymelinked immunosorbent assay (ELISA) kit. All experiments were performed in triplicate. Findings / Results: Pramlintide exhibited no inhibitory effect on HUVECs proliferation. It significantly increased cell migration at the concentration of 1 µg/mL. Pramlintide (1 µg/mL) also enhanced average tubules length, size, and the mean number of junctions. However, there was not any significant change in VEGF release from HUVECs. Conclusion and implications: Findings of this research revealed the effect of pramlintide on angiogenes is related markers via enhancing migration and tubulogenesis in vitro, suggesting a worth while proposition for further clinical researches on improving vascular complications and healing of diabetic wounds.\",\n",
        "    \"Pharmaceutical Care in a Patient with Recurrent Infection after Liver Transplant\":\"Case (description): A case of a 57-year-old liver transplant patient with biliary drainage catheter whose recurrent infection was managed by clinical pharmacists. The suggestions about the choice of antibiotic regimen and the monitoring to other related infection factors, such as biliary drainage catheter and concentration of tracrolimus, were accepted and used to the patient. The state of the infected patient was improved. Conclusion: The antibiotics’ distribution, antibacterial effect, and drug resistance could be taken into consideration for the patients with recurrent infection after liver transplant. The resistance of antibiotics could be deferred by altering suitable antibiotics. Close care to catheter and immunosuppressants could be necessary to prevent infection for the patients after transplant.\",\n",
        "    \"Pharmacological Options Beyond Proton Pump Inhibitors in Children with Gastroesophageal Reflux Disease\":\"Pharmacological treatment of gastroesophageal reflux (GER) disease is mostly based on acid control. However, different molecules have been proposed both for patients with persisting symptoms and to limit adverse effects of proton pump inhibitors (PPI). This paper focuses on other acid inhibitors, alginate, prokinetics, drug acting on lower esophageal sphincter and esophageal hypersensitivity. Mechanism of action, indications, efficacy, limits and recent advances are reported. Pediatric data and possible adverse effects are also considered.\",\n",
        "    \"A Comprehensive Review Article on Isoprostanes as Biological Markers\":\"Various obsessive procedures include free radical intervened oxidative anxiety. The elaboration of solid and nonintrusive strategies for the assessment of oxidative worry in human body is a standout amongst the most critical strides towards perceiving the assortment of oxidative disorders apparently created by Reactive Oxygen Species (ROS). Lipid peroxidation is a standout amongst the most well-known components related with oxidative anxiety, and the estimation of lipid peroxidation items has been utilized to assess oxidative worry in vivo conditions. The estimation of conjugated dienes and lipid hydro peroxide, while the evaluation of optional final results incorporates thiobarbituric acid reactive substances, vaporous alkanes and prostaglandin F2-like items, named F2-isoprostanes (F2-iPs). As of late, F2-iPs have been viewed as the most significant, precise and solid marker of oxidative worry in vivo and their evaluation is suggested for surveying oxidant wounds in people. The motivation behind this paper is to give some data on organic chemistry of isoprostanes and their use as a marker of oxidative anxiety.\"\n",
        "}"
      ],
      "execution_count": 40,
      "outputs": []
    },
    {
      "cell_type": "code",
      "metadata": {
        "id": "L1Dwwf3M9y-K",
        "colab_type": "code",
        "colab": {
          "base_uri": "https://localhost:8080/",
          "height": 87
        },
        "outputId": "ab9e7adb-3dee-4649-82c0-966afd4957e5"
      },
      "source": [
        "from nltk.corpus import stopwords \n",
        "from nltk.tokenize import word_tokenize \n",
        "import nltk\n",
        "nltk.download('punkt')\n",
        "nltk.download('stopwords')\n",
        "puncs=\"!#$%&'()*+,-./:;<=>?@[\\]^_`{|}~\""
      ],
      "execution_count": 45,
      "outputs": [
        {
          "output_type": "stream",
          "text": [
            "[nltk_data] Downloading package punkt to /root/nltk_data...\n",
            "[nltk_data]   Package punkt is already up-to-date!\n",
            "[nltk_data] Downloading package stopwords to /root/nltk_data...\n",
            "[nltk_data]   Package stopwords is already up-to-date!\n"
          ],
          "name": "stdout"
        }
      ]
    },
    {
      "cell_type": "code",
      "metadata": {
        "id": "YXDZRWGGAJYx",
        "colab_type": "code",
        "colab": {}
      },
      "source": [
        "stop_words = set(stopwords.words('english')) "
      ],
      "execution_count": 21,
      "outputs": []
    },
    {
      "cell_type": "code",
      "metadata": {
        "id": "i2Nh0TwnASKn",
        "colab_type": "code",
        "colab": {}
      },
      "source": [
        "abstract_filtered=dict()"
      ],
      "execution_count": 25,
      "outputs": []
    },
    {
      "cell_type": "code",
      "metadata": {
        "id": "zCIwWYguAalZ",
        "colab_type": "code",
        "colab": {
          "base_uri": "https://localhost:8080/",
          "height": 211
        },
        "outputId": "bb0b1c47-a93c-4beb-c606-d393a0d458f7"
      },
      "source": [
        "for key, abstract in abstracts.items():\n",
        "  temp_list=[]\n",
        "  print(key,\"\\n\")\n",
        "  for word in word_tokenize(abstract):\n",
        "    if word not in stop_words:\n",
        "      if word not in puncs:\n",
        "        temp_list.append(word)\n",
        "  abstract_filtered[key]=temp_list"
      ],
      "execution_count": 47,
      "outputs": [
        {
          "output_type": "stream",
          "text": [
            "evaluation of vitro and in vivo anti-Toxoplasma gondii (T. gondii) effect of 5-oxo-hexahydroquinoline compounds \n",
            "\n",
            "The effect of pramlintide, an antidiabetic amylin analogue, on angiogenesis-related markers in vitro Leila Safaeian1,*, Golnaz Vaseghi2, Mina Mirian3, and Mehdi Dehghani Firoozabadi1 \n",
            "\n",
            "Pharmaceutical Care in a Patient with Recurrent Infection after Liver Transplant \n",
            "\n",
            "Pharmacological Options Beyond Proton Pump Inhibitors in Children with Gastroesophageal Reflux Disease \n",
            "\n",
            "A Comprehensive Review Article on Isoprostanes as Biological Markers \n",
            "\n"
          ],
          "name": "stdout"
        }
      ]
    },
    {
      "cell_type": "code",
      "metadata": {
        "id": "Yo_Yzhs2Becw",
        "colab_type": "code",
        "colab": {}
      },
      "source": [
        "#Abstract to vector\n",
        "abstract2vec=dict()\n",
        "for key, abstract in abstract_filtered.items():\n",
        "  centroid=np.zeros((50,))\n",
        "  for word in abstract:\n",
        "    try:\n",
        "      centroid+=model[word.lower()]\n",
        "    except:\n",
        "      pass\n",
        "  centroid/=len(abstract)\n",
        "  abstract2vec[key]=centroid\n",
        "      "
      ],
      "execution_count": 65,
      "outputs": []
    },
    {
      "cell_type": "code",
      "metadata": {
        "id": "8lhezc49GKox",
        "colab_type": "code",
        "colab": {
          "base_uri": "https://localhost:8080/",
          "height": 904
        },
        "outputId": "b7530160-15e6-40d5-bd27-4e358b1c7511"
      },
      "source": [
        "abstract2vec"
      ],
      "execution_count": 66,
      "outputs": [
        {
          "output_type": "execute_result",
          "data": {
            "text/plain": [
              "{'A Comprehensive Review Article on Isoprostanes as Biological Markers': array([-0.0263802 ,  0.00502581, -0.19584417,  0.13576188,  0.25519927,\n",
              "         0.20353919,  0.21401711, -0.55140245, -0.09811371, -0.31771124,\n",
              "         0.04354859, -0.15189654, -1.91382984,  0.09235996,  0.2123872 ,\n",
              "         0.08247035,  0.3645644 , -0.02991413,  0.18379109, -0.128149  ,\n",
              "        -0.23511672,  0.20536066,  0.05564265, -0.05048747, -0.36860852,\n",
              "         0.62648765,  0.10479516,  0.37442839, -0.12644457,  0.28377378,\n",
              "         0.36979721, -0.16408696,  0.227577  , -0.19872895,  0.18527944,\n",
              "        -0.24315715, -0.14260669,  0.30649781,  0.10926429, -0.14728519,\n",
              "         0.24653701, -0.04869401,  0.1065031 , -0.14151855, -0.005446  ,\n",
              "        -0.14705239, -0.05873164,  0.20383819, -0.14646526,  0.01005382]),\n",
              " 'Pharmaceutical Care in a Patient with Recurrent Infection after Liver Transplant': array([-0.20264497,  0.26268004, -0.59573844,  0.05690685,  0.07935512,\n",
              "        -0.00688023,  0.24554811, -0.49907448,  0.01494512, -0.37236808,\n",
              "         0.07571766, -0.45159864, -2.49275689,  0.26727586,  0.4589897 ,\n",
              "         0.14760527,  0.26074767, -0.0902029 ,  0.18238951, -0.30528249,\n",
              "        -0.30287191,  0.3596007 ,  0.06965443,  0.02444157, -0.09047072,\n",
              "         0.82290135,  0.02239903,  0.29123072, -0.04850174,  0.54701979,\n",
              "         0.16058487, -0.23315185, -0.01141166, -0.23558634,  0.1954161 ,\n",
              "        -0.10087857, -0.22481369,  0.32153876, -0.10504849, -0.09508851,\n",
              "         0.2134042 , -0.07864284,  0.16778047, -0.06497358,  0.29264906,\n",
              "        -0.24638378,  0.0392378 ,  0.31553146, -0.08682531, -0.0244138 ]),\n",
              " 'Pharmacological Options Beyond Proton Pump Inhibitors in Children with Gastroesophageal Reflux Disease': array([-0.18721036,  0.30538877, -0.41596439,  0.11104695,  0.22241683,\n",
              "         0.20673289,  0.21678636, -0.55035039, -0.00993538, -0.30924046,\n",
              "         0.03193051, -0.36732734, -2.01497547,  0.30998914,  0.3592107 ,\n",
              "        -0.0170749 ,  0.40160161, -0.08997432,  0.36518615, -0.28378226,\n",
              "        -0.25278289,  0.22341643,  0.0807964 , -0.01784672, -0.22213915,\n",
              "         0.79975019,  0.00928402,  0.46669   , -0.31688464,  0.42210079,\n",
              "         0.19855221, -0.23976773,  0.07799276, -0.26983532,  0.14710374,\n",
              "        -0.21124298, -0.35213256,  0.37420716,  0.07785637, -0.19712336,\n",
              "         0.16917753, -0.10080917,  0.12505184, -0.05857462,  0.08679472,\n",
              "        -0.33091   , -0.16671464,  0.23694053, -0.13214402,  0.09374066]),\n",
              " 'The effect of pramlintide, an antidiabetic amylin analogue, on angiogenesis-related markers in vitro Leila Safaeian1,*, Golnaz Vaseghi2, Mina Mirian3, and Mehdi Dehghani Firoozabadi1': array([-0.18219518,  0.11102157, -0.15134527,  0.04812215,  0.26813843,\n",
              "         0.11239221,  0.1922167 , -0.36289538, -0.04812848, -0.30958248,\n",
              "         0.04909327, -0.22552942, -1.71949508,  0.25581456,  0.16804512,\n",
              "         0.07698333,  0.28668164,  0.06067832,  0.19644819, -0.16853811,\n",
              "        -0.24378395,  0.12698663,  0.10324831, -0.04762254, -0.23225737,\n",
              "         0.54238941, -0.01539781,  0.25131061, -0.038927  ,  0.33497026,\n",
              "         0.27011309, -0.20265276,  0.1006664 , -0.34894281,  0.23587763,\n",
              "        -0.19601572, -0.17974073,  0.25485261,  0.10576789, -0.23744779,\n",
              "         0.20747311, -0.06734301,  0.11139514, -0.04108053,  0.00748575,\n",
              "        -0.19062829, -0.09659434,  0.17228083, -0.15043721, -0.01001856]),\n",
              " 'evaluation of vitro and in vivo anti-Toxoplasma gondii (T. gondii) effect of 5-oxo-hexahydroquinoline compounds': array([-0.07725106,  0.13253632, -0.27010695,  0.08986608,  0.22763032,\n",
              "         0.1648688 ,  0.10429776, -0.47903169, -0.04597882, -0.3166475 ,\n",
              "         0.00345197, -0.20515463, -1.67276302,  0.23930055,  0.22769908,\n",
              "        -0.07591596,  0.34145076, -0.00777289,  0.21723473, -0.14955681,\n",
              "        -0.06765297,  0.15283754,  0.04851671, -0.11864642, -0.32415712,\n",
              "         0.50710836,  0.00667038,  0.24916935,  0.00498783,  0.32635071,\n",
              "         0.30016131, -0.11133661,  0.12909037, -0.20238691,  0.07886316,\n",
              "        -0.24548847, -0.0737157 ,  0.20412262,  0.08881488, -0.12498699,\n",
              "         0.30051276, -0.05384543,  0.07054218, -0.18976622,  0.05133153,\n",
              "        -0.18647237, -0.11505298,  0.17030697, -0.11237951, -0.03854309])}"
            ]
          },
          "metadata": {
            "tags": []
          },
          "execution_count": 66
        }
      ]
    },
    {
      "cell_type": "code",
      "metadata": {
        "id": "PovKfpLQG23t",
        "colab_type": "code",
        "colab": {
          "base_uri": "https://localhost:8080/",
          "height": 191
        },
        "outputId": "b8855234-9752-441c-c907-ef15e4cb37c2"
      },
      "source": [
        "results=dict()\n",
        "query=\"evaluation of vitro\"\n",
        "#Abstract to vector\n",
        "query2vec=np.zeros((50,))\n",
        "query_tokenized=word_tokenize(query)\n",
        "for word in query_tokenized:\n",
        "  if word not in stop_words:\n",
        "    if word not in puncs:\n",
        "      try:\n",
        "        query2vec+=model[word]\n",
        "      except:\n",
        "        pass\n",
        "query2vec/=len(query_tokenized)\n",
        "query2vec\n"
      ],
      "execution_count": 73,
      "outputs": [
        {
          "output_type": "execute_result",
          "data": {
            "text/plain": [
              "array([-0.12612667,  0.33946333, -0.15757667, -0.24022   ,  0.46453998,\n",
              "       -0.110228  , -0.00242333, -0.51923668,  0.04456   , -0.38690001,\n",
              "        0.17805333, -0.20432333, -0.61565667,  0.54590333,  0.15894867,\n",
              "        0.19238666,  0.25945334,  0.48774   ,  0.11411666,  0.04762   ,\n",
              "       -0.25856334,  0.20571634,  0.144471  , -0.12799   , -0.09012334,\n",
              "        0.42608665,  0.43208333,  0.26166   , -0.13643166,  0.37488667,\n",
              "        0.47485334, -0.29310834,  0.09209667, -0.49289   , -0.19891901,\n",
              "       -0.36512666, -0.09599266,  0.57321334,  0.20859667, -0.28175666,\n",
              "        0.49606001,  0.14532   ,  0.07814001,  0.06016   ,  0.10100434,\n",
              "        0.15898334, -0.19224   ,  0.30736333, -0.16909667, -0.45770665])"
            ]
          },
          "metadata": {
            "tags": []
          },
          "execution_count": 73
        }
      ]
    },
    {
      "cell_type": "code",
      "metadata": {
        "id": "Va5AC0aTKPc7",
        "colab_type": "code",
        "colab": {
          "base_uri": "https://localhost:8080/",
          "height": 124
        },
        "outputId": "5194954b-ea3d-4bdd-d91d-88fa757896c7"
      },
      "source": [
        "for key, abstract_vec in abstract2vec.items():\n",
        "  cos_sim = dot(abstract_vec, query2vec)/(norm(abstract_vec)*norm(query2vec))\n",
        "  results[key]=cos_sim\n",
        "\n",
        "results"
      ],
      "execution_count": 75,
      "outputs": [
        {
          "output_type": "execute_result",
          "data": {
            "text/plain": [
              "{'A Comprehensive Review Article on Isoprostanes as Biological Markers': 0.6456806635913033,\n",
              " 'Pharmaceutical Care in a Patient with Recurrent Infection after Liver Transplant': 0.5995837865475295,\n",
              " 'Pharmacological Options Beyond Proton Pump Inhibitors in Children with Gastroesophageal Reflux Disease': 0.6471072353675683,\n",
              " 'The effect of pramlintide, an antidiabetic amylin analogue, on angiogenesis-related markers in vitro Leila Safaeian1,*, Golnaz Vaseghi2, Mina Mirian3, and Mehdi Dehghani Firoozabadi1': 0.6832007250169947,\n",
              " 'evaluation of vitro and in vivo anti-Toxoplasma gondii (T. gondii) effect of 5-oxo-hexahydroquinoline compounds': 0.6656869295681562}"
            ]
          },
          "metadata": {
            "tags": []
          },
          "execution_count": 75
        }
      ]
    },
    {
      "cell_type": "code",
      "metadata": {
        "id": "VEKtE-T0Lw-u",
        "colab_type": "code",
        "colab": {}
      },
      "source": [
        ""
      ],
      "execution_count": null,
      "outputs": []
    }
  ]
}